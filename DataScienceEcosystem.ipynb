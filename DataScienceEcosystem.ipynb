{
 "cells": [
  {
   "cell_type": "markdown",
   "id": "c789804a-e41a-4ed7-9f05-cabae3fba098",
   "metadata": {},
   "source": [
    "# Data Science Tools and Ecosystem"
   ]
  },
  {
   "cell_type": "markdown",
   "id": "02fcafcb-e442-4b25-b13b-bcee84005054",
   "metadata": {},
   "source": [
    "In this notebook, Data Science Tools and Ecosystem are summarized."
   ]
  },
  {
   "cell_type": "markdown",
   "id": "71996e22-793e-4ad7-8b0c-54063d43f5f5",
   "metadata": {},
   "source": [
    "**Objectives**\n",
    "- List popular languages for Data Science.\n",
    "- List common libraries used for Data Science.\n",
    "- Create a Jupyter Notebook with markdown and code cells.\n",
    "- Share Jupyter notebook publicly on Github.\n",
    "- Demonstrate proficiency in Data Science toolkit knowledge."
   ]
  },
  {
   "cell_type": "markdown",
   "id": "ebd2b8b2-30f0-42f4-96f9-f93537976346",
   "metadata": {},
   "source": [
    "Some of the popular languages that Data Scientists use are:\n",
    "1. Python\n",
    "2. R\n",
    "3. SQL\n",
    "4. Scala\n",
    "5. Java"
   ]
  },
  {
   "cell_type": "markdown",
   "id": "848c8243-489f-4b00-ae91-42e4810af075",
   "metadata": {},
   "source": [
    "Some of the commonly used libraries used by Data Scientists include:\n",
    "1. Pandas\n",
    "2. NumPy\n",
    "3. Matplotlib\n",
    "4. Seaborn"
   ]
  },
  {
   "cell_type": "markdown",
   "id": "287cceff-2716-4c5c-a6d2-8dc17fc35c2d",
   "metadata": {},
   "source": [
    "|Data Science Tools|\n",
    "|:---:|\n",
    "|R Studio|\n",
    "|Jupyter Notebook|\n",
    "|Spyder|"
   ]
  },
  {
   "cell_type": "markdown",
   "id": "f82f9b0a-a178-4263-834c-160fa9e14f4e",
   "metadata": {},
   "source": [
    "### Below are a few examples of evaluating arithmetic expressions in Python"
   ]
  },
  {
   "cell_type": "code",
   "execution_count": 6,
   "id": "c67fc9ca-2c3a-42e6-93ee-eb8a83ad8048",
   "metadata": {},
   "outputs": [
    {
     "data": {
      "text/plain": [
       "17"
      ]
     },
     "execution_count": 6,
     "metadata": {},
     "output_type": "execute_result"
    }
   ],
   "source": [
    "#This is a simple arithmetic expression to multiply then add integers.\n",
    "(3*4)+5"
   ]
  },
  {
   "cell_type": "code",
   "execution_count": 24,
   "id": "23f56de4-3196-4aaf-bf55-f06a45b52090",
   "metadata": {},
   "outputs": [
    {
     "data": {
      "text/plain": [
       "3.3333333333333335"
      ]
     },
     "execution_count": 24,
     "metadata": {},
     "output_type": "execute_result"
    }
   ],
   "source": [
    "minutes = 200\n",
    "hours = minutes/60\n",
    "hours\n",
    "#This will convert 200 minutes to hours by dividng by 60"
   ]
  },
  {
   "cell_type": "markdown",
   "id": "105f537c-3005-48a9-a485-92c56bcc78f6",
   "metadata": {},
   "source": [
    "## Author\n",
    "Richard K"
   ]
  }
 ],
 "metadata": {
  "kernelspec": {
   "display_name": "Python 3 (ipykernel)",
   "language": "python",
   "name": "python3"
  },
  "language_info": {
   "codemirror_mode": {
    "name": "ipython",
    "version": 3
   },
   "file_extension": ".py",
   "mimetype": "text/x-python",
   "name": "python",
   "nbconvert_exporter": "python",
   "pygments_lexer": "ipython3",
   "version": "3.11.8"
  }
 },
 "nbformat": 4,
 "nbformat_minor": 5
}
